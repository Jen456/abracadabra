{
 "cells": [
  {
   "cell_type": "code",
   "execution_count": 42,
   "metadata": {},
   "outputs": [],
   "source": [
    "import os\n",
    "import numpy as np\n",
    "import matplotlib.pyplot as plt\n",
    "from collections import defaultdict\n",
    "from Storage.storage import get_cursor, get_info_for_song_id\n",
    "from Fingerprint.fingerprint import fingerprint_file\n",
    "from recognise import recognise_song"
   ]
  },
  {
   "cell_type": "code",
   "execution_count": 9,
   "metadata": {},
   "outputs": [
    {
     "name": "stdout",
     "output_type": "stream",
     "text": [
      "10/23\n"
     ]
    }
   ],
   "source": [
    "# Baseline accuracy\n",
    "\n",
    "TEST_DIR = \"test/ab/\"\n",
    "\n",
    "correct = 0\n",
    "\n",
    "for song in os.listdir(TEST_DIR):\n",
    "    result = recognise_song(TEST_DIR + song)\n",
    "    result_title = result[2]\n",
    "    if result_title.replace(\" \", \"\").lower() in song:\n",
    "        correct += 1\n",
    "\n",
    "print(f\"{correct}/{len(os.listdir(TEST_DIR))}\")"
   ]
  },
  {
   "cell_type": "code",
   "execution_count": 74,
   "metadata": {},
   "outputs": [],
   "source": [
    "def shazam_match(offsets, fname, supposed):\n",
    "    tks = list(map(lambda x: x[0] - x[1], offsets))\n",
    "    # number of matches in highest peak\n",
    "    hist, _ = np.histogram(tks)\n",
    "#     plt.plot(_[:-1], hist)\n",
    "#     plt.title(fname)\n",
    "#     plt.show()\n",
    "    return np.max(hist)"
   ]
  },
  {
   "cell_type": "code",
   "execution_count": 73,
   "metadata": {},
   "outputs": [],
   "source": [
    "def new_get_matches(hashes, threshold=5):\n",
    "    conn, c = get_cursor()\n",
    "    h_dict = {}\n",
    "    for h, t, _ in hashes:\n",
    "        h_dict[h] = t\n",
    "    in_values = f\"({','.join([str(h[0]) for h in hashes])})\"\n",
    "    c.execute(f\"SELECT hash, offset, song_id FROM hash WHERE hash IN {in_values}\")\n",
    "    results = c.fetchall()\n",
    "    result_dict = defaultdict(list)\n",
    "    for r in results:\n",
    "        result_dict[r[2]].append((r[1], h_dict[r[0]]))\n",
    "    return result_dict\n",
    "\n",
    "def new_recognise_song(filename):\n",
    "    hashes = fingerprint_file(filename)\n",
    "    matches = new_get_matches(hashes)\n",
    "    matched_song = None\n",
    "    best_score = 0\n",
    "    print(f\"Recognising {filename} ---\")\n",
    "    for song_id, offsets in matches.items():\n",
    "        score = shazam_match(offsets, song_id, filename.split(\"/\")[-1])\n",
    "#         print(f\"{song_id} - {score}\")\n",
    "        if score > best_score:\n",
    "            best_score = score\n",
    "            matched_song = song_id\n",
    "    info = get_info_for_song_id(matched_song)\n",
    "    print(best_score)\n",
    "    if info is not None:\n",
    "        return info\n",
    "    return matched_song"
   ]
  },
  {
   "cell_type": "code",
   "execution_count": 78,
   "metadata": {},
   "outputs": [
    {
     "name": "stdout",
     "output_type": "stream",
     "text": [
      "Recognising test/ab/openyoureyes1.wav ---\n",
      "6\n",
      "--------\n",
      "Recognising test/ab/allhopeisgone1.wav ---\n",
      "9\n",
      "--------\n",
      "Recognising test/ab/stillremains2.wav ---\n",
      "7\n",
      "stillremains2.wav - Wayward One\n",
      "--------\n",
      "Recognising test/ab/burnitdown2.wav ---\n",
      "28\n",
      "--------\n",
      "Recognising test/ab/openyoureyes2.wav ---\n",
      "9\n",
      "--------\n",
      "Recognising test/ab/brokenwings2.wav ---\n",
      "44\n",
      "--------\n",
      "Recognising test/ab/brokenwings1.wav ---\n",
      "58\n",
      "--------\n",
      "Recognising test/ab/onedayremains3(quiet).wav ---\n",
      "8\n",
      "onedayremains3(quiet).wav - Buried Alive\n",
      "--------\n",
      "Recognising test/ab/burnitdown1.wav ---\n",
      "20\n",
      "--------\n",
      "Recognising test/ab/stillremains3.wav ---\n",
      "4\n",
      "stillremains3.wav - Broken Wings\n",
      "--------\n",
      "Recognising test/ab/wonderfullife2.wav ---\n",
      "14\n",
      "--------\n",
      "Recognising test/ab/findthereal1.wav ---\n",
      "6\n",
      "findthereal1.wav - Broken Wings\n",
      "--------\n",
      "Recognising test/ab/onedayremains1.wav ---\n",
      "16\n",
      "--------\n",
      "Recognising test/ab/makeitright1.wav ---\n",
      "8\n",
      "--------\n",
      "Recognising test/ab/makeitright3.wav ---\n",
      "7\n",
      "makeitright3.wav - Peace Is Broken\n",
      "--------\n",
      "Recognising test/ab/findthereal2.wav ---\n",
      "12\n",
      "--------\n",
      "Recognising test/ab/findthereal3.wav ---\n",
      "10\n",
      "findthereal3.wav - Broken Wings\n",
      "--------\n",
      "Recognising test/ab/metalingus2.wav ---\n",
      "15\n",
      "--------\n",
      "Recognising test/ab/metalingus1.wav ---\n",
      "12\n",
      "--------\n",
      "Recognising test/ab/onedayremains2(loud).wav ---\n",
      "8\n",
      "onedayremains2(loud).wav - Coming Home\n",
      "--------\n",
      "Recognising test/ab/makeitright2.wav ---\n",
      "10\n",
      "makeitright2.wav - Fortress\n",
      "--------\n",
      "Recognising test/ab/wonderfullife1.wav ---\n",
      "10\n",
      "--------\n",
      "Recognising test/ab/stillremains1.wav ---\n",
      "4\n",
      "stillremains1.wav - Broken Wings\n",
      "--------\n",
      "14/23\n"
     ]
    }
   ],
   "source": [
    "correct = 0\n",
    "\n",
    "for song in os.listdir(TEST_DIR):\n",
    "    result = new_recognise_song(TEST_DIR + song)\n",
    "    result_title = result[2]\n",
    "    if result_title.replace(\" \", \"\").lower() in song:\n",
    "        correct += 1\n",
    "    else:\n",
    "        print(f\"{song} - {result_title}\")\n",
    "    print(\"--------\")\n",
    "\n",
    "print(f\"{correct}/{len(os.listdir(TEST_DIR))}\")"
   ]
  },
  {
   "cell_type": "code",
   "execution_count": 76,
   "metadata": {},
   "outputs": [
    {
     "name": "stdout",
     "output_type": "stream",
     "text": [
      "Recognising test/ab/stillremains2.wav ---\n",
      "7\n",
      "Recognising test/ab/onedayremains3(quiet).wav ---\n",
      "8\n",
      "Recognising test/ab/stillremains3.wav ---\n",
      "4\n",
      "Recognising test/ab/findthereal1.wav ---\n",
      "6\n",
      "Recognising test/ab/makeitright3.wav ---\n",
      "7\n",
      "Recognising test/ab/findthereal3.wav ---\n",
      "10\n",
      "Recognising test/ab/onedayremains2(loud).wav ---\n",
      "8\n",
      "Recognising test/ab/makeitright2.wav ---\n",
      "10\n",
      "Recognising test/ab/stillremains1.wav ---\n",
      "4\n"
     ]
    }
   ],
   "source": [
    "wrong_songs = [\n",
    "    \"stillremains2.wav\",\n",
    "    \"onedayremains3(quiet).wav\",\n",
    "    \"stillremains3.wav\",\n",
    "    \"findthereal1.wav\",\n",
    "    \"makeitright3.wav\",\n",
    "    \"findthereal3.wav\",\n",
    "    \"onedayremains2(loud).wav\",\n",
    "    \"makeitright2.wav\",\n",
    "    \"stillremains1.wav\",\n",
    "]\n",
    "\n",
    "for song in wrong_songs:\n",
    "    result = new_recognise_song(TEST_DIR + song)"
   ]
  }
 ],
 "metadata": {
  "kernelspec": {
   "display_name": "Python 3",
   "language": "python",
   "name": "python3"
  },
  "language_info": {
   "codemirror_mode": {
    "name": "ipython",
    "version": 3
   },
   "file_extension": ".py",
   "mimetype": "text/x-python",
   "name": "python",
   "nbconvert_exporter": "python",
   "pygments_lexer": "ipython3",
   "version": "3.6.9"
  }
 },
 "nbformat": 4,
 "nbformat_minor": 4
}
